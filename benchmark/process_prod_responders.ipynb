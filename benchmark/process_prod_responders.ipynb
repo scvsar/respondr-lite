{
 "cells": [
  {
   "cell_type": "code",
   "execution_count": null,
   "id": "e3a24b42",
   "metadata": {},
   "outputs": [
    {
     "ename": "",
     "evalue": "",
     "output_type": "error",
     "traceback": [
      "\u001b[1;31mThe Kernel crashed while executing code in the current cell or a previous cell. \n",
      "\u001b[1;31mPlease review the code in the cell(s) to identify a possible cause of the failure. \n",
      "\u001b[1;31mClick <a href='https://aka.ms/vscodeJupyterKernelCrash'>here</a> for more info. \n",
      "\u001b[1;31mView Jupyter <a href='command:jupyter.viewOutput'>log</a> for further details."
     ]
    }
   ],
   "source": [
    "import json\n",
    "with open(\"./prod_responders.json\", \"r\") as f:\n",
    "\tdata = json.load(f)    \n"
   ]
  },
  {
   "cell_type": "code",
   "execution_count": null,
   "id": "9338e104",
   "metadata": {},
   "outputs": [
    {
     "data": {
      "text/plain": [
       "{'name': 'Quinton Cline',\n",
       " 'text': 'Who can grab a command vehicle? ',\n",
       " 'timestamp': '2025-08-19T09:06:00-07:00',\n",
       " 'timestamp_utc': '2025-08-19T16:06:00+00:00',\n",
       " 'group_id': '16649586',\n",
       " 'team': 'OSU',\n",
       " 'user_id': '37268303',\n",
       " 'id': '17575fb8-3eac-4f0d-961d-aadf6f4a4d96',\n",
       " 'vehicle': 'Not Responding',\n",
       " 'eta': 'Cancelled',\n",
       " 'eta_timestamp': None,\n",
       " 'eta_timestamp_utc': None,\n",
       " 'minutes_until_arrival': None,\n",
       " 'arrival_status': 'Informational'}"
      ]
     },
     "execution_count": 3,
     "metadata": {},
     "output_type": "execute_result"
    }
   ],
   "source": [
    "        new_message = {\n",
    "            \"id\": str(uuid.uuid4()),\n",
    "            \"name\": message.name,\n",
    "            \"text\": message.text,\n",
    "            \"timestamp\": message_dt.strftime(\"%Y-%m-%d %H:%M:%S\"),\n",
    "            \"vehicle\": parsed[\"vehicle\"],\n",
    "            \"eta\": parsed[\"eta\"],\n",
    "            \"eta_timestamp\": parsed[\"eta_timestamp\"],\n",
    "            \"eta_timestamp_utc\": parsed[\"eta_timestamp_utc\"],\n",
    "            \"minutes_until_arrival\": parsed[\"minutes_until_arrival\"],\n",
    "            \"arrival_status\": parsed.get(\"arrival_status\", \"Unknown\"),\n",
    "            \"raw_status\": parsed[\"raw_status\"],\n",
    "            \"status_source\": parsed[\"status_source\"],\n",
    "            \"status_confidence\": parsed[\"status_confidence\"],\n",
    "            \"group_id\": message.group_id or \"unknown\",\n",
    "            \"created_at\": message.created_at,\n",
    "        }"
   ]
  },
  {
   "cell_type": "code",
   "execution_count": null,
   "id": "3c987151",
   "metadata": {},
   "outputs": [],
   "source": []
  }
 ],
 "metadata": {
  "kernelspec": {
   "display_name": "backend (3.12.10)",
   "language": "python",
   "name": "python3"
  },
  "language_info": {
   "codemirror_mode": {
    "name": "ipython",
    "version": 3
   },
   "file_extension": ".py",
   "mimetype": "text/x-python",
   "name": "python",
   "nbconvert_exporter": "python",
   "pygments_lexer": "ipython3",
   "version": "3.12.10"
  }
 },
 "nbformat": 4,
 "nbformat_minor": 5
}
